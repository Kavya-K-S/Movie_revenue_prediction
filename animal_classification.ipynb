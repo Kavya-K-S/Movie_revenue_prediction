{
 "cells": [
  {
   "cell_type": "code",
   "execution_count": 1,
   "id": "113c7bf3",
   "metadata": {},
   "outputs": [],
   "source": [
    "import tensorflow as tf\n",
    "from tensorflow import keras\n",
    "from tensorflow.keras import layers\n",
    "from tensorflow.keras.applications import MobileNetV2\n",
    "import numpy as np\n",
    "from tensorflow.keras.preprocessing import image\n",
    "import os\n"
   ]
  },
  {
   "cell_type": "code",
   "execution_count": 3,
   "id": "060d14d6",
   "metadata": {},
   "outputs": [],
   "source": [
    "DATASET_DIR = \"animals\"   # dataset folder\n",
    "ANIMALS_TXT = \"name of the animals.txt\"  # text file with 90 animal names\n",
    "IMG_SIZE = (224, 224)\n",
    "BATCH_SIZE = 32\n",
    "SEED = 123\n"
   ]
  },
  {
   "cell_type": "code",
   "execution_count": 4,
   "id": "22a19d5f",
   "metadata": {},
   "outputs": [
    {
     "name": "stdout",
     "output_type": "stream",
     "text": [
      "✅ Loaded 90 animal classes\n"
     ]
    }
   ],
   "source": [
    "with open(ANIMALS_TXT, \"r\") as f:\n",
    "    animal_names = [line.strip() for line in f.readlines()]\n",
    "\n",
    "print(\"✅ Loaded\", len(animal_names), \"animal classes\")\n"
   ]
  },
  {
   "cell_type": "code",
   "execution_count": 6,
   "id": "df86f1ff",
   "metadata": {},
   "outputs": [
    {
     "name": "stdout",
     "output_type": "stream",
     "text": [
      "Found 5400 files belonging to 90 classes.\n",
      "Using 4320 files for training.\n",
      "Found 5400 files belonging to 90 classes.\n",
      "Using 1080 files for validation.\n"
     ]
    }
   ],
   "source": [
    "train_ds = tf.keras.utils.image_dataset_from_directory(\n",
    "    DATASET_DIR,\n",
    "    validation_split=0.2,   # 80% train, 20% validation\n",
    "    subset=\"training\",\n",
    "    seed=SEED,\n",
    "    image_size=IMG_SIZE,\n",
    "    batch_size=BATCH_SIZE\n",
    ")\n",
    "val_ds = tf.keras.utils.image_dataset_from_directory(\n",
    "    DATASET_DIR,\n",
    "    validation_split=0.2,\n",
    "    subset=\"validation\",\n",
    "    seed=SEED,\n",
    "    image_size=IMG_SIZE,\n",
    "    batch_size=BATCH_SIZE\n",
    ")"
   ]
  },
  {
   "cell_type": "code",
   "execution_count": 7,
   "id": "0363a0c0",
   "metadata": {},
   "outputs": [],
   "source": [
    "normalization_layer = layers.Rescaling(1./255)\n",
    "train_ds = train_ds.map(lambda x, y: (normalization_layer(x), y))\n",
    "val_ds = val_ds.map(lambda x, y: (normalization_layer(x), y))\n"
   ]
  },
  {
   "cell_type": "code",
   "execution_count": 9,
   "id": "819039eb",
   "metadata": {},
   "outputs": [
    {
     "name": "stdout",
     "output_type": "stream",
     "text": [
      "Model: \"sequential\"\n",
      "_________________________________________________________________\n",
      " Layer (type)                Output Shape              Param #   \n",
      "=================================================================\n",
      " mobilenetv2_1.00_224 (Func  (None, 7, 7, 1280)        2257984   \n",
      " tional)                                                         \n",
      "                                                                 \n",
      " global_average_pooling2d (  (None, 1280)              0         \n",
      " GlobalAveragePooling2D)                                         \n",
      "                                                                 \n",
      " dropout (Dropout)           (None, 1280)              0         \n",
      "                                                                 \n",
      " dense (Dense)               (None, 256)               327936    \n",
      "                                                                 \n",
      " dropout_1 (Dropout)         (None, 256)               0         \n",
      "                                                                 \n",
      " dense_1 (Dense)             (None, 90)                23130     \n",
      "                                                                 \n",
      "=================================================================\n",
      "Total params: 2609050 (9.95 MB)\n",
      "Trainable params: 351066 (1.34 MB)\n",
      "Non-trainable params: 2257984 (8.61 MB)\n",
      "_________________________________________________________________\n",
      "Epoch 1/10\n",
      "135/135 [==============================] - 150s 1s/step - loss: 4.6998 - accuracy: 0.0227 - val_loss: 4.1634 - val_accuracy: 0.0991\n",
      "Epoch 2/10\n",
      "135/135 [==============================] - 134s 989ms/step - loss: 4.1629 - accuracy: 0.0785 - val_loss: 3.7615 - val_accuracy: 0.3315\n",
      "Epoch 3/10\n",
      "135/135 [==============================] - 131s 967ms/step - loss: 3.7005 - accuracy: 0.1810 - val_loss: 3.1264 - val_accuracy: 0.5185\n",
      "Epoch 4/10\n",
      "135/135 [==============================] - 130s 960ms/step - loss: 3.1470 - accuracy: 0.3058 - val_loss: 2.3641 - val_accuracy: 0.6444\n",
      "Epoch 5/10\n",
      "135/135 [==============================] - 129s 950ms/step - loss: 2.5903 - accuracy: 0.4153 - val_loss: 1.7425 - val_accuracy: 0.7259\n",
      "Epoch 6/10\n",
      "135/135 [==============================] - 129s 948ms/step - loss: 2.1399 - accuracy: 0.5046 - val_loss: 1.3480 - val_accuracy: 0.7685\n",
      "Epoch 7/10\n",
      "135/135 [==============================] - 129s 949ms/step - loss: 1.8242 - accuracy: 0.5664 - val_loss: 1.1109 - val_accuracy: 0.7917\n",
      "Epoch 8/10\n",
      "135/135 [==============================] - 131s 964ms/step - loss: 1.5698 - accuracy: 0.6169 - val_loss: 0.9517 - val_accuracy: 0.8102\n",
      "Epoch 9/10\n",
      "135/135 [==============================] - 135s 997ms/step - loss: 1.4171 - accuracy: 0.6537 - val_loss: 0.8609 - val_accuracy: 0.8102\n",
      "Epoch 10/10\n",
      "135/135 [==============================] - 145s 1s/step - loss: 1.2792 - accuracy: 0.6766 - val_loss: 0.7868 - val_accuracy: 0.8130\n"
     ]
    }
   ],
   "source": [
    "base_model = MobileNetV2(\n",
    "    weights=\"imagenet\",\n",
    "    include_top=False,\n",
    "    input_shape=(224, 224, 3)\n",
    ")\n",
    "base_model.trainable = False  # freeze base model\n",
    "\n",
    "model = keras.Sequential([\n",
    "    base_model,\n",
    "    layers.GlobalAveragePooling2D(),\n",
    "    layers.Dropout(0.5),\n",
    "    layers.Dense(256, activation=\"relu\"),\n",
    "    layers.Dropout(0.3),\n",
    "    layers.Dense(len(animal_names), activation=\"softmax\")  # 90 classes\n",
    "])\n",
    "model.compile(\n",
    "    optimizer=keras.optimizers.Adam(learning_rate=1e-4),\n",
    "    loss=\"sparse_categorical_crossentropy\",\n",
    "    metrics=[\"accuracy\"]\n",
    ")\n",
    "\n",
    "model.summary()\n",
    "\n",
    "# ------------------------\n",
    "# 5. Training\n",
    "# ------------------------\n",
    "EPOCHS = 10\n",
    "history = model.fit(\n",
    "    train_ds,\n",
    "    validation_data=val_ds,\n",
    "    epochs=EPOCHS\n",
    ")\n"
   ]
  },
  {
   "cell_type": "code",
   "execution_count": 10,
   "id": "8586b1d6",
   "metadata": {},
   "outputs": [
    {
     "name": "stderr",
     "output_type": "stream",
     "text": [
      "c:\\Users\\Kavya KS\\AppData\\Local\\Programs\\Python\\Python38\\lib\\site-packages\\keras\\src\\engine\\training.py:3000: UserWarning: You are saving your model as an HDF5 file via `model.save()`. This file format is considered legacy. We recommend using instead the native Keras format, e.g. `model.save('my_model.keras')`.\n",
      "  saving_api.save_model(\n"
     ]
    },
    {
     "name": "stdout",
     "output_type": "stream",
     "text": [
      "✅ Model saved as animal90_classifier.h5\n"
     ]
    }
   ],
   "source": [
    "model.save(\"animal90_classifier.h5\")\n",
    "print(\"✅ Model saved as animal90_classifier.h5\")"
   ]
  },
  {
   "cell_type": "code",
   "execution_count": 11,
   "id": "690ca9f7",
   "metadata": {},
   "outputs": [],
   "source": [
    "def predict_animal(img_path):\n",
    "    img = image.load_img(img_path, target_size=IMG_SIZE)\n",
    "    img_array = image.img_to_array(img) / 255.0\n",
    "    img_array = np.expand_dims(img_array, axis=0)\n",
    "\n",
    "    prediction = model.predict(img_array)\n",
    "    predicted_index = np.argmax(prediction)\n",
    "    predicted_animal = animal_names[predicted_index]\n",
    "    confidence = prediction[0][predicted_index]\n",
    "\n",
    "    return predicted_animal, confidence"
   ]
  },
  {
   "cell_type": "code",
   "execution_count": 14,
   "id": "5b522b76",
   "metadata": {},
   "outputs": [
    {
     "name": "stdout",
     "output_type": "stream",
     "text": [
      "1/1 [==============================] - 0s 86ms/step\n",
      "🔮 Predicted: lion (Confidence: 0.90)\n"
     ]
    }
   ],
   "source": [
    "#test_img = os.path.join(DATASET_DIR, animal_names[0], os.listdir(os.path.join(DATASET_DIR, animal_names[0]))[0])\n",
    "test_img=\"lion.png\"\n",
    "predicted_animal, conf = predict_animal(test_img)\n",
    "print(f\"🔮 Predicted: {predicted_animal} (Confidence: {conf:.2f})\")\n"
   ]
  }
 ],
 "metadata": {
  "kernelspec": {
   "display_name": "Python 3",
   "language": "python",
   "name": "python3"
  },
  "language_info": {
   "codemirror_mode": {
    "name": "ipython",
    "version": 3
   },
   "file_extension": ".py",
   "mimetype": "text/x-python",
   "name": "python",
   "nbconvert_exporter": "python",
   "pygments_lexer": "ipython3",
   "version": "3.8.10"
  }
 },
 "nbformat": 4,
 "nbformat_minor": 5
}
